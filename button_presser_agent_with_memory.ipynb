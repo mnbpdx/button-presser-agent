{
  "nbformat": 4,
  "nbformat_minor": 0,
  "metadata": {
    "colab": {
      "provenance": [],
      "authorship_tag": "ABX9TyOv4Tpl2ONgBOK+vorResNE",
      "include_colab_link": true
    },
    "kernelspec": {
      "name": "python3",
      "display_name": "Python 3"
    },
    "language_info": {
      "name": "python"
    }
  },
  "cells": [
    {
      "cell_type": "markdown",
      "metadata": {
        "id": "view-in-github",
        "colab_type": "text"
      },
      "source": [
        "<a href=\"https://colab.research.google.com/github/mnbpdx/button-presser-agent/blob/main/button_presser_agent_with_memory.ipynb\" target=\"_parent\"><img src=\"https://colab.research.google.com/assets/colab-badge.svg\" alt=\"Open In Colab\"/></a>"
      ]
    },
    {
      "cell_type": "markdown",
      "source": [
        "# button presser agent with memory"
      ],
      "metadata": {
        "id": "cELiv1MnyAvt"
      }
    },
    {
      "cell_type": "markdown",
      "source": [
        "## install dependencies"
      ],
      "metadata": {
        "id": "7YfWV3mryPWU"
      }
    },
    {
      "cell_type": "code",
      "source": [
        "%pip install --quiet -U langchain_openai langchain_core langgraph"
      ],
      "metadata": {
        "id": "g1tPlY_pyWOa"
      },
      "execution_count": 1,
      "outputs": []
    },
    {
      "cell_type": "markdown",
      "source": [
        "## set the OpenAI API Key"
      ],
      "metadata": {
        "id": "O0gKo6NxO6kG"
      }
    },
    {
      "cell_type": "code",
      "execution_count": 2,
      "metadata": {
        "id": "iyGdd8joOTjp",
        "colab": {
          "base_uri": "https://localhost:8080/"
        },
        "outputId": "78e84ccb-2e4f-4a30-8fdc-660504b63807"
      },
      "outputs": [
        {
          "name": "stdout",
          "output_type": "stream",
          "text": [
            "OPENAI_API_KEY = ··········\n"
          ]
        }
      ],
      "source": [
        "import os, getpass\n",
        "\n",
        "def _set_env(var: str):\n",
        "  if not os.environ.get(var):\n",
        "    os.environ[var] = getpass.getpass(f\"{var} = \")\n",
        "\n",
        "_set_env(\"OPENAI_API_KEY\")"
      ]
    },
    {
      "cell_type": "markdown",
      "source": [
        "## set up logging to LangSmith"
      ],
      "metadata": {
        "id": "bbOwOYUd2MEb"
      }
    },
    {
      "cell_type": "code",
      "source": [
        "_set_env(\"LANGCHAIN_API_KEY\")\n",
        "os.environ[\"LANGCHAIN_TRACING_V2\"] = \"true\"\n",
        "os.environ[\"LANGCHAIN_PROJECT\"] = \"my-simple-bot\""
      ],
      "metadata": {
        "id": "vbBbLtZM2PY8",
        "colab": {
          "base_uri": "https://localhost:8080/"
        },
        "outputId": "fa64b946-8141-48b1-ccd9-7f6eebc6df70"
      },
      "execution_count": 3,
      "outputs": [
        {
          "name": "stdout",
          "output_type": "stream",
          "text": [
            "LANGCHAIN_API_KEY = ··········\n"
          ]
        }
      ]
    },
    {
      "cell_type": "markdown",
      "source": [
        "## Define the LLM model"
      ],
      "metadata": {
        "id": "PyYPgXNATbEr"
      }
    },
    {
      "cell_type": "code",
      "source": [
        "from langchain_openai import ChatOpenAI\n",
        "\n",
        "llm = ChatOpenAI(model=\"gpt-4o-mini\")"
      ],
      "metadata": {
        "id": "irBv21sMTa39"
      },
      "execution_count": 25,
      "outputs": []
    },
    {
      "cell_type": "markdown",
      "source": [
        "## Define button press tool"
      ],
      "metadata": {
        "id": "Pkwe7uBGaxBP"
      }
    },
    {
      "cell_type": "code",
      "source": [
        "def press_button():\n",
        "  \"\"\"Presses a button.\n",
        "  \"\"\"\n",
        "  print(\"Button pressed!\")"
      ],
      "metadata": {
        "id": "qHVPsYcoa1Vv"
      },
      "execution_count": 5,
      "outputs": []
    },
    {
      "cell_type": "markdown",
      "source": [
        "## Bind tools to the LLM"
      ],
      "metadata": {
        "id": "7-JQ0CXpZ88r"
      }
    },
    {
      "cell_type": "code",
      "source": [
        "llm_with_button_press_tool = llm.bind_tools([press_button])"
      ],
      "metadata": {
        "id": "or3M3hsZaEHx"
      },
      "execution_count": 6,
      "outputs": []
    },
    {
      "cell_type": "markdown",
      "source": [
        "## Build the LLM Node"
      ],
      "metadata": {
        "id": "1MuVftu-BQnV"
      }
    },
    {
      "cell_type": "code",
      "source": [
        "from langgraph.graph import MessagesState\n",
        "from langchain_core.messages import trim_messages\n",
        "\n",
        "def llm_with_button_press_tool_node(state: MessagesState):\n",
        "\n",
        "  # this step trims the conversation to 100 tokens\n",
        "  messages = trim_messages(\n",
        "    messages=state[\"messages\"],\n",
        "    strategy=\"last\",\n",
        "    token_counter=ChatOpenAI(model=\"gpt-4o-mini\"),\n",
        "    max_tokens=100,\n",
        "    start_on=\"human\",\n",
        "    allow_partial=False,\n",
        "  )\n",
        "\n",
        "  return {\"messages\": [llm_with_button_press_tool.invoke(messages)]}"
      ],
      "metadata": {
        "id": "5vlnUFwPBX48"
      },
      "execution_count": 26,
      "outputs": []
    },
    {
      "cell_type": "markdown",
      "source": [
        "## Build the Graph"
      ],
      "metadata": {
        "id": "bpapb_lE3pJ3"
      }
    },
    {
      "cell_type": "code",
      "source": [
        "from langgraph.graph import START, END, StateGraph\n",
        "from langgraph.prebuilt import ToolNode, tools_condition\n",
        "from IPython.display import Image\n",
        "from langgraph.checkpoint.memory import MemorySaver\n",
        "\n",
        "builder = StateGraph(MessagesState)\n",
        "\n",
        "builder.add_node(\"llm\", llm_with_button_press_tool_node)\n",
        "builder.add_node(\"tools\", ToolNode([press_button]))\n",
        "\n",
        "builder.add_edge(START, \"llm\")\n",
        "builder.add_conditional_edges(\"llm\", tools_condition)\n",
        "builder.add_edge(\"tools\", \"llm\")\n",
        "\n",
        "memory = MemorySaver()\n",
        "graph = builder.compile(checkpointer=memory)\n",
        "\n",
        "display(Image(graph.get_graph(xray=True).draw_mermaid_png()))"
      ],
      "metadata": {
        "colab": {
          "base_uri": "https://localhost:8080/",
          "height": 266
        },
        "id": "7TuK0PGg3rBN",
        "outputId": "49a90178-2b79-4f0b-ab2d-9a2cb041a292"
      },
      "execution_count": 27,
      "outputs": [
        {
          "output_type": "display_data",
          "data": {
            "image/jpeg": "[encoded data removed]",
            "text/plain": [
              "<IPython.core.display.Image object>"
            ]
          },
          "metadata": {}
        }
      ]
    },
    {
      "cell_type": "code",
      "source": [
        "from langchain_core.messages import HumanMessage\n",
        "\n",
        "config = {\"configurable\": {\"thread_id\": \"1\"}}\n",
        "\n",
        "messages = [HumanMessage(content=\"how many times has the button been pressed?\")]\n",
        "messages = graph.invoke({\"messages\": messages}, config)\n",
        "\n",
        "for m in messages['messages']:\\\n",
        "    m.pretty_print()\n"
      ],
      "metadata": {
        "colab": {
          "base_uri": "https://localhost:8080/"
        },
        "id": "62v4qw6a9Tyx",
        "outputId": "e64709c4-c5bc-4cd6-b671-cf05f3d1e3bf"
      },
      "execution_count": 30,
      "outputs": [
        {
          "output_type": "stream",
          "name": "stdout",
          "text": [
            "================================\u001b[1m Human Message \u001b[0m=================================\n",
            "\n",
            "how many times has the button been pressed?\n",
            "==================================\u001b[1m Ai Message \u001b[0m==================================\n",
            "\n",
            "I'm unable to determine how many times the button has been pressed, as I don't have access to that information. If you want to press the button, I can assist with that. Would you like to press it?\n",
            "================================\u001b[1m Human Message \u001b[0m=================================\n",
            "\n",
            "press the button 4 times!\n",
            "==================================\u001b[1m Ai Message \u001b[0m==================================\n",
            "Tool Calls:\n",
            "  press_button (call_9TlSYnh4oMN29t5fKAjWuE6m)\n",
            " Call ID: call_9TlSYnh4oMN29t5fKAjWuE6m\n",
            "  Args:\n",
            "  press_button (call_TPnGtbx8b8Oh4F2kWT8YBWO7)\n",
            " Call ID: call_TPnGtbx8b8Oh4F2kWT8YBWO7\n",
            "  Args:\n",
            "  press_button (call_VSS6AvbB47cj4meTiowJQE87)\n",
            " Call ID: call_VSS6AvbB47cj4meTiowJQE87\n",
            "  Args:\n",
            "  press_button (call_ijOfCgylMH7iL9AHsp5LidhF)\n",
            " Call ID: call_ijOfCgylMH7iL9AHsp5LidhF\n",
            "  Args:\n",
            "=================================\u001b[1m Tool Message \u001b[0m=================================\n",
            "Name: press_button\n",
            "\n",
            "null\n",
            "=================================\u001b[1m Tool Message \u001b[0m=================================\n",
            "Name: press_button\n",
            "\n",
            "null\n",
            "=================================\u001b[1m Tool Message \u001b[0m=================================\n",
            "Name: press_button\n",
            "\n",
            "null\n",
            "=================================\u001b[1m Tool Message \u001b[0m=================================\n",
            "Name: press_button\n",
            "\n",
            "null\n",
            "==================================\u001b[1m Ai Message \u001b[0m==================================\n",
            "\n",
            "The button has been pressed 4 times!\n",
            "================================\u001b[1m Human Message \u001b[0m=================================\n",
            "\n",
            "how many times has the button been pressed?\n",
            "==================================\u001b[1m Ai Message \u001b[0m==================================\n",
            "\n",
            "The button has been pressed a total of 4 times.\n"
          ]
        }
      ]
    },
    {
      "cell_type": "code",
      "source": [],
      "metadata": {
        "id": "6fHPGntxJpbQ"
      },
      "execution_count": 9,
      "outputs": []
    }
  ]
}